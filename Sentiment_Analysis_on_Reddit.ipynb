{
  "nbformat": 4,
  "nbformat_minor": 0,
  "metadata": {
    "colab": {
      "provenance": []
    },
    "kernelspec": {
      "name": "python3",
      "display_name": "Python 3"
    },
    "language_info": {
      "name": "python"
    }
  },
  "cells": [
    {
      "cell_type": "code",
      "execution_count": null,
      "metadata": {
        "id": "QYUjDQ8sjxAF",
        "colab": {
          "base_uri": "https://localhost:8080/"
        },
        "outputId": "e0bc4e87-023f-4a43-fa44-89327d94efe9"
      },
      "outputs": [
        {
          "output_type": "stream",
          "name": "stdout",
          "text": [
            "Collecting praw\n",
            "  Downloading praw-7.8.1-py3-none-any.whl.metadata (9.4 kB)\n",
            "Collecting prawcore<3,>=2.4 (from praw)\n",
            "  Downloading prawcore-2.4.0-py3-none-any.whl.metadata (5.0 kB)\n",
            "Collecting update_checker>=0.18 (from praw)\n",
            "  Downloading update_checker-0.18.0-py3-none-any.whl.metadata (2.3 kB)\n",
            "Requirement already satisfied: websocket-client>=0.54.0 in /usr/local/lib/python3.11/dist-packages (from praw) (1.8.0)\n",
            "Requirement already satisfied: requests<3.0,>=2.6.0 in /usr/local/lib/python3.11/dist-packages (from prawcore<3,>=2.4->praw) (2.32.3)\n",
            "Requirement already satisfied: charset-normalizer<4,>=2 in /usr/local/lib/python3.11/dist-packages (from requests<3.0,>=2.6.0->prawcore<3,>=2.4->praw) (3.4.1)\n",
            "Requirement already satisfied: idna<4,>=2.5 in /usr/local/lib/python3.11/dist-packages (from requests<3.0,>=2.6.0->prawcore<3,>=2.4->praw) (3.10)\n",
            "Requirement already satisfied: urllib3<3,>=1.21.1 in /usr/local/lib/python3.11/dist-packages (from requests<3.0,>=2.6.0->prawcore<3,>=2.4->praw) (2.3.0)\n",
            "Requirement already satisfied: certifi>=2017.4.17 in /usr/local/lib/python3.11/dist-packages (from requests<3.0,>=2.6.0->prawcore<3,>=2.4->praw) (2024.12.14)\n",
            "Downloading praw-7.8.1-py3-none-any.whl (189 kB)\n",
            "\u001b[2K   \u001b[90m━━━━━━━━━━━━━━━━━━━━━━━━━━━━━━━━━━━━━━━━\u001b[0m \u001b[32m189.3/189.3 kB\u001b[0m \u001b[31m4.0 MB/s\u001b[0m eta \u001b[36m0:00:00\u001b[0m\n",
            "\u001b[?25hDownloading prawcore-2.4.0-py3-none-any.whl (17 kB)\n",
            "Downloading update_checker-0.18.0-py3-none-any.whl (7.0 kB)\n",
            "Installing collected packages: update_checker, prawcore, praw\n",
            "Successfully installed praw-7.8.1 prawcore-2.4.0 update_checker-0.18.0\n"
          ]
        }
      ],
      "source": [
        "\n",
        "!pip install praw"
      ]
    },
    {
      "cell_type": "code",
      "source": [
        "!pip install vaderSentiment"
      ],
      "metadata": {
        "colab": {
          "base_uri": "https://localhost:8080/"
        },
        "id": "TZ5lod2hPZDh",
        "outputId": "16cabd82-f4e9-4735-95f0-598d9a4905fc"
      },
      "execution_count": null,
      "outputs": [
        {
          "output_type": "stream",
          "name": "stdout",
          "text": [
            "Collecting vaderSentiment\n",
            "  Downloading vaderSentiment-3.3.2-py2.py3-none-any.whl.metadata (572 bytes)\n",
            "Requirement already satisfied: requests in /usr/local/lib/python3.11/dist-packages (from vaderSentiment) (2.32.3)\n",
            "Requirement already satisfied: charset-normalizer<4,>=2 in /usr/local/lib/python3.11/dist-packages (from requests->vaderSentiment) (3.4.1)\n",
            "Requirement already satisfied: idna<4,>=2.5 in /usr/local/lib/python3.11/dist-packages (from requests->vaderSentiment) (3.10)\n",
            "Requirement already satisfied: urllib3<3,>=1.21.1 in /usr/local/lib/python3.11/dist-packages (from requests->vaderSentiment) (2.3.0)\n",
            "Requirement already satisfied: certifi>=2017.4.17 in /usr/local/lib/python3.11/dist-packages (from requests->vaderSentiment) (2024.12.14)\n",
            "Downloading vaderSentiment-3.3.2-py2.py3-none-any.whl (125 kB)\n",
            "\u001b[2K   \u001b[90m━━━━━━━━━━━━━━━━━━━━━━━━━━━━━━━━━━━━━━━━\u001b[0m \u001b[32m126.0/126.0 kB\u001b[0m \u001b[31m2.5 MB/s\u001b[0m eta \u001b[36m0:00:00\u001b[0m\n",
            "\u001b[?25hInstalling collected packages: vaderSentiment\n",
            "Successfully installed vaderSentiment-3.3.2\n"
          ]
        }
      ]
    },
    {
      "cell_type": "code",
      "source": [
        "import praw\n",
        "import pandas as pd\n",
        "from vaderSentiment.vaderSentiment import SentimentIntensityAnalyzer\n",
        "\n",
        "# Step 1: Initialize PRAW (Reddit API)\n",
        "reddit = praw.Reddit(\n",
        "    client_id='7I8oVEnbAAa9nUYlyufYvA',  # Replace with your client ID\n",
        "    client_secret='rhxvPUUs3XTkP10joVtfgIY1lCJkAw',  # Replace with your client secret\n",
        "    user_agent='BrandSentimentAnalysisApp'  # Replace with your user agent string\n",
        ")"
      ],
      "metadata": {
        "id": "ebeZhnBQO-xc"
      },
      "execution_count": null,
      "outputs": []
    },
    {
      "cell_type": "code",
      "source": [
        "# Step 2: Choose a subreddit and the keyword (brand name or topic)\n",
        "subreddit_name = 'all'  # Search in all subreddits\n",
        "keyword = 'Oppo'  # Replace this with the brand or keyword you're analyzing"
      ],
      "metadata": {
        "id": "HRdH4SVVNRat"
      },
      "execution_count": null,
      "outputs": []
    },
    {
      "cell_type": "code",
      "source": [
        "# Step 3: Scrape Reddit Posts\n",
        "posts = []\n",
        "for submission in reddit.subreddit(subreddit_name).search(keyword, limit=10):  # Limit number of posts to scrape\n",
        "    posts.append({\n",
        "        'title': submission.title,\n",
        "        'selftext': submission.selftext,\n",
        "        'url': submission.url,\n",
        "        'created': submission.created_utc\n",
        "    })"
      ],
      "metadata": {
        "colab": {
          "base_uri": "https://localhost:8080/"
        },
        "id": "3786nA2xNSZP",
        "outputId": "5d69997a-7ed8-4777-c90d-5129a03c5e07"
      },
      "execution_count": null,
      "outputs": [
        {
          "output_type": "stream",
          "name": "stderr",
          "text": [
            "WARNING:praw:It appears that you are using PRAW in an asynchronous environment.\n",
            "It is strongly recommended to use Async PRAW: https://asyncpraw.readthedocs.io.\n",
            "See https://praw.readthedocs.io/en/latest/getting_started/multiple_instances.html#discord-bots-and-asynchronous-environments for more info.\n",
            "\n"
          ]
        }
      ]
    },
    {
      "cell_type": "code",
      "source": [
        "# Step 4: Sentiment Analysis using VADER Sentiment Analyzer\n",
        "analyzer = SentimentIntensityAnalyzer()\n",
        "\n",
        "results = []\n",
        "\n",
        "for post in posts:\n",
        "    title_sentiment = analyzer.polarity_scores(post['title'])['compound']\n",
        "    text_sentiment = analyzer.polarity_scores(post['selftext'])['compound']\n",
        "\n",
        "    # Average sentiment of both title and selftext\n",
        "    avg_sentiment = (title_sentiment + text_sentiment) / 2\n",
        "\n",
        "    results.append({\n",
        "        'title': post['title'],\n",
        "        'selftext': post['selftext'],\n",
        "        'url': post['url'],\n",
        "        'created': post['created'],\n",
        "        'sentiment_score': avg_sentiment\n",
        "    })\n"
      ],
      "metadata": {
        "id": "1x7RByUaNSqn"
      },
      "execution_count": null,
      "outputs": []
    },
    {
      "cell_type": "code",
      "source": [
        "# Step 5: Convert the results to a Pandas DataFrame\n",
        "df = pd.DataFrame(results)\n"
      ],
      "metadata": {
        "id": "w5q1LGhSNSuX"
      },
      "execution_count": null,
      "outputs": []
    },
    {
      "cell_type": "code",
      "source": [
        "# Step 6: Display the DataFrame\n",
        "print(df)"
      ],
      "metadata": {
        "colab": {
          "base_uri": "https://localhost:8080/"
        },
        "id": "FZmLiATZNSyO",
        "outputId": "7e8bfb1f-885d-4b40-ced9-394e72893e40"
      },
      "execution_count": null,
      "outputs": [
        {
          "output_type": "stream",
          "name": "stdout",
          "text": [
            "                                               title  \\\n",
            "0          Oppo isn’t even trying to hide it anymore   \n",
            "1                          Why choose OP over Oppo?    \n",
            "2                            Oppo Find X8 Pro review   \n",
            "3  Seriously OnePlus/Oppo, what the hell are you ...   \n",
            "4                 Why are Oppo phones so unrootable?   \n",
            "5  The wait is over — OPPO's Find X8 and X8 Pro a...   \n",
            "6  OPPO and realme Respond to Pre-installed Loan ...   \n",
            "7      The Oppo roll screen smartphone is so smooth!   \n",
            "8  [Ouzia] NFL has announced this year's Internat...   \n",
            "9                              Oppo new 240W charger   \n",
            "\n",
            "                                            selftext  \\\n",
            "0                                                      \n",
            "1  Historically, OnePlus was cheaper,  had better...   \n",
            "2                                                      \n",
            "3  I'm disappointed. The .830 update really messe...   \n",
            "4  Is there any hope in rooting Oppo Reno 6 CPH22...   \n",
            "5                                                      \n",
            "6  Following reports of the “Fineasy” loan app be...   \n",
            "7                                                      \n",
            "8                                                      \n",
            "9                                                      \n",
            "\n",
            "                                                 url       created  \\\n",
            "0                    https://v.redd.it/jedc5019enud1  1.728879e+09   \n",
            "1  https://www.reddit.com/r/oneplus/comments/1fbc...  1.725731e+09   \n",
            "2  https://www.gsmarena.com/oppo_find_x8_pro-revi...  1.732172e+09   \n",
            "3             https://www.reddit.com/gallery/1eq981a  1.723455e+09   \n",
            "4  https://www.reddit.com/r/androidroot/comments/...  1.714870e+09   \n",
            "5  https://www.androidcentral.com/phones/the-wait...  1.729775e+09   \n",
            "6     https://ch3plus.com/news/social/morning/430567  1.736653e+09   \n",
            "7                   https://i.imgur.com/nytYQIO.gifv  1.609535e+09   \n",
            "8  https://twitter.com/MalikOuzia_/status/1616042...  1.674130e+09   \n",
            "9                    https://v.redd.it/a881tpjueyk81  1.646220e+09   \n",
            "\n",
            "   sentiment_score  \n",
            "0         -0.08895  \n",
            "1         -0.37095  \n",
            "2          0.00000  \n",
            "3         -0.79530  \n",
            "4          0.43600  \n",
            "5          0.00000  \n",
            "6          0.50230  \n",
            "7          0.00000  \n",
            "8          0.17000  \n",
            "9          0.00000  \n"
          ]
        }
      ]
    },
    {
      "cell_type": "code",
      "source": [
        "# Optionally: Save the data to a CSV file\n",
        "df.to_csv('reddit_sentiment_analysis.csv', index=False)"
      ],
      "metadata": {
        "id": "1Lsz8Mk4NS2Q"
      },
      "execution_count": null,
      "outputs": []
    },
    {
      "cell_type": "code",
      "source": [
        "# Step 7: Analyze sentiment distribution\n",
        "positive = len(df[df['sentiment_score'] > 0.1])\n",
        "negative = len(df[df['sentiment_score'] < -0.1])\n",
        "neutral = len(df[(df['sentiment_score'] >= -0.1) & (df['sentiment_score'] <= 0.1)])\n",
        "\n",
        "print(f\"Positive Sentiment Posts: {positive}\")\n",
        "print(f\"Negative Sentiment Posts: {negative}\")\n",
        "print(f\"Neutral Sentiment Posts: {neutral}\")"
      ],
      "metadata": {
        "colab": {
          "base_uri": "https://localhost:8080/"
        },
        "id": "RTiEx3XNNS6P",
        "outputId": "7620e0a6-2883-48c3-c749-24e70cb6d345"
      },
      "execution_count": null,
      "outputs": [
        {
          "output_type": "stream",
          "name": "stdout",
          "text": [
            "Positive Sentiment Posts: 3\n",
            "Negative Sentiment Posts: 2\n",
            "Neutral Sentiment Posts: 5\n"
          ]
        }
      ]
    },
    {
      "cell_type": "code",
      "source": [
        "# Create a bar chart\n",
        "import matplotlib.pyplot as plt\n",
        "import seaborn as sns # This line imports seaborn and assigns it the alias 'sns'\n",
        "# Prepare sentiment distribution data\n",
        "sentiment_counts = {\n",
        "    'Positive': positive,\n",
        "    'Negative': negative,\n",
        "    'Neutral': neutral\n",
        "}\n",
        "\n",
        "# Step 8: Visualize Sentiment Distribution (Bar Chart)\n",
        "sns.set(style=\"whitegrid\")\n",
        "fig, ax = plt.subplots(figsize=(8, 6))\n",
        "\n",
        "# Bar chart: labels and values\n",
        "ax.bar(sentiment_counts.keys(), sentiment_counts.values(), color=['green', 'red', 'gray'])\n",
        "\n",
        "# Title and labels\n",
        "ax.set_title(f\"Sentiment Distribution for '{keyword}' on Reddit\", fontsize=16)\n",
        "ax.set_xlabel(\"Sentiment\", fontsize=12)\n",
        "ax.set_ylabel(\"Number of Posts\", fontsize=12)\n",
        "\n",
        "# Show the plot\n",
        "plt.tight_layout()\n",
        "plt.show()"
      ],
      "metadata": {
        "colab": {
          "base_uri": "https://localhost:8080/",
          "height": 601
        },
        "id": "XMLvkcfFNS-H",
        "outputId": "0fb5fe6f-161a-4f1d-fcdf-4085638902b7"
      },
      "execution_count": null,
      "outputs": [
        {
          "output_type": "display_data",
          "data": {
            "text/plain": [
              "<Figure size 800x600 with 1 Axes>"
            ],
            "image/png": "[encoded data removed]"
          },
          "metadata": {}
        }
      ]
    }
  ]
}